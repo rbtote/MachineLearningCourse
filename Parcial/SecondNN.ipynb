{
 "cells": [
  {
   "cell_type": "code",
   "execution_count": 1,
   "metadata": {},
   "outputs": [],
   "source": [
    "import numpy as np\n",
    "import pandas as pd\n",
    "import seaborn as sns\n",
    "import matplotlib.pyplot as plt\n",
    "import plotly.express as px\n"
   ]
  },
  {
   "cell_type": "code",
   "execution_count": 2,
   "metadata": {},
   "outputs": [
    {
     "name": "stdout",
     "output_type": "stream",
     "text": [
      "<class 'pandas.core.frame.DataFrame'>\n",
      "Int64Index: 1005 entries, 325 to 363\n",
      "Data columns (total 8 columns):\n",
      " #   Column   Non-Null Count  Dtype         \n",
      "---  ------   --------------  -----         \n",
      " 0   date     1005 non-null   object        \n",
      " 1   pre      1005 non-null   float64       \n",
      " 2   hum      1005 non-null   float64       \n",
      " 3   tem      1005 non-null   float64       \n",
      " 4   occ      1005 non-null   object        \n",
      " 5   newDate  1005 non-null   datetime64[ns]\n",
      " 6   time     1005 non-null   object        \n",
      " 7   day      1005 non-null   object        \n",
      "dtypes: datetime64[ns](1), float64(3), object(4)\n",
      "memory usage: 70.7+ KB\n"
     ]
    },
    {
     "data": {
      "text/html": [
       "<div>\n",
       "<style scoped>\n",
       "    .dataframe tbody tr th:only-of-type {\n",
       "        vertical-align: middle;\n",
       "    }\n",
       "\n",
       "    .dataframe tbody tr th {\n",
       "        vertical-align: top;\n",
       "    }\n",
       "\n",
       "    .dataframe thead th {\n",
       "        text-align: right;\n",
       "    }\n",
       "</style>\n",
       "<table border=\"1\" class=\"dataframe\">\n",
       "  <thead>\n",
       "    <tr style=\"text-align: right;\">\n",
       "      <th></th>\n",
       "      <th>date</th>\n",
       "      <th>pre</th>\n",
       "      <th>hum</th>\n",
       "      <th>tem</th>\n",
       "      <th>occ</th>\n",
       "      <th>newDate</th>\n",
       "      <th>time</th>\n",
       "      <th>day</th>\n",
       "    </tr>\n",
       "  </thead>\n",
       "  <tbody>\n",
       "    <tr>\n",
       "      <th>325</th>\n",
       "      <td>14/05/2020 21:05</td>\n",
       "      <td>94269.77</td>\n",
       "      <td>54.45</td>\n",
       "      <td>30.99</td>\n",
       "      <td>L</td>\n",
       "      <td>2020-05-14 21:05:00</td>\n",
       "      <td>21:05:00</td>\n",
       "      <td>2020-05-14</td>\n",
       "    </tr>\n",
       "    <tr>\n",
       "      <th>833</th>\n",
       "      <td>14/05/2020 21:10</td>\n",
       "      <td>94266.83</td>\n",
       "      <td>54.26</td>\n",
       "      <td>31.01</td>\n",
       "      <td>L</td>\n",
       "      <td>2020-05-14 21:10:00</td>\n",
       "      <td>21:10:00</td>\n",
       "      <td>2020-05-14</td>\n",
       "    </tr>\n",
       "    <tr>\n",
       "      <th>46</th>\n",
       "      <td>14/05/2020 21:15</td>\n",
       "      <td>94272.60</td>\n",
       "      <td>54.85</td>\n",
       "      <td>31.01</td>\n",
       "      <td>L</td>\n",
       "      <td>2020-05-14 21:15:00</td>\n",
       "      <td>21:15:00</td>\n",
       "      <td>2020-05-14</td>\n",
       "    </tr>\n",
       "    <tr>\n",
       "      <th>352</th>\n",
       "      <td>14/05/2020 21:20</td>\n",
       "      <td>94271.31</td>\n",
       "      <td>55.12</td>\n",
       "      <td>30.92</td>\n",
       "      <td>L</td>\n",
       "      <td>2020-05-14 21:20:00</td>\n",
       "      <td>21:20:00</td>\n",
       "      <td>2020-05-14</td>\n",
       "    </tr>\n",
       "    <tr>\n",
       "      <th>431</th>\n",
       "      <td>14/05/2020 21:25</td>\n",
       "      <td>94274.32</td>\n",
       "      <td>55.42</td>\n",
       "      <td>30.90</td>\n",
       "      <td>L</td>\n",
       "      <td>2020-05-14 21:25:00</td>\n",
       "      <td>21:25:00</td>\n",
       "      <td>2020-05-14</td>\n",
       "    </tr>\n",
       "  </tbody>\n",
       "</table>\n",
       "</div>"
      ],
      "text/plain": [
       "                 date       pre    hum    tem occ             newDate  \\\n",
       "325  14/05/2020 21:05  94269.77  54.45  30.99   L 2020-05-14 21:05:00   \n",
       "833  14/05/2020 21:10  94266.83  54.26  31.01   L 2020-05-14 21:10:00   \n",
       "46   14/05/2020 21:15  94272.60  54.85  31.01   L 2020-05-14 21:15:00   \n",
       "352  14/05/2020 21:20  94271.31  55.12  30.92   L 2020-05-14 21:20:00   \n",
       "431  14/05/2020 21:25  94274.32  55.42  30.90   L 2020-05-14 21:25:00   \n",
       "\n",
       "         time         day  \n",
       "325  21:05:00  2020-05-14  \n",
       "833  21:10:00  2020-05-14  \n",
       "46   21:15:00  2020-05-14  \n",
       "352  21:20:00  2020-05-14  \n",
       "431  21:25:00  2020-05-14  "
      ]
     },
     "execution_count": 2,
     "metadata": {},
     "output_type": "execute_result"
    }
   ],
   "source": [
    "df = pd.read_csv(\"ds-home-5min-avg.csv\")\n",
    "df['newDate']=pd.to_datetime(df['date'],  infer_datetime_format=True)\n",
    "df['time'] = [d.time() for d in df['newDate']]\n",
    "df['day'] = [d.date() for d in df['newDate']]\n",
    "df=df.sort_values(by=['newDate'])\n",
    "df.info()\n",
    "\n",
    "\n",
    "df.head()\n"
   ]
  },
  {
   "cell_type": "code",
   "execution_count": 3,
   "metadata": {},
   "outputs": [
    {
     "data": {
      "text/html": [
       "<div>\n",
       "<style scoped>\n",
       "    .dataframe tbody tr th:only-of-type {\n",
       "        vertical-align: middle;\n",
       "    }\n",
       "\n",
       "    .dataframe tbody tr th {\n",
       "        vertical-align: top;\n",
       "    }\n",
       "\n",
       "    .dataframe thead th {\n",
       "        text-align: right;\n",
       "    }\n",
       "</style>\n",
       "<table border=\"1\" class=\"dataframe\">\n",
       "  <thead>\n",
       "    <tr style=\"text-align: right;\">\n",
       "      <th></th>\n",
       "      <th>date</th>\n",
       "      <th>pre</th>\n",
       "      <th>hum</th>\n",
       "      <th>tem</th>\n",
       "      <th>occ</th>\n",
       "      <th>newDate</th>\n",
       "      <th>time</th>\n",
       "      <th>day</th>\n",
       "    </tr>\n",
       "  </thead>\n",
       "  <tbody>\n",
       "    <tr>\n",
       "      <th>809</th>\n",
       "      <td>04/06/2020 22:45</td>\n",
       "      <td>94573.86</td>\n",
       "      <td>56.85</td>\n",
       "      <td>31.57</td>\n",
       "      <td>L</td>\n",
       "      <td>2020-06-04 22:45:00</td>\n",
       "      <td>22:45:00</td>\n",
       "      <td>2020-06-04</td>\n",
       "    </tr>\n",
       "    <tr>\n",
       "      <th>845</th>\n",
       "      <td>04/06/2020 22:50</td>\n",
       "      <td>94581.41</td>\n",
       "      <td>56.67</td>\n",
       "      <td>31.69</td>\n",
       "      <td>L</td>\n",
       "      <td>2020-06-04 22:50:00</td>\n",
       "      <td>22:50:00</td>\n",
       "      <td>2020-06-04</td>\n",
       "    </tr>\n",
       "    <tr>\n",
       "      <th>318</th>\n",
       "      <td>04/06/2020 22:55</td>\n",
       "      <td>94585.56</td>\n",
       "      <td>56.70</td>\n",
       "      <td>31.78</td>\n",
       "      <td>L</td>\n",
       "      <td>2020-06-04 22:55:00</td>\n",
       "      <td>22:55:00</td>\n",
       "      <td>2020-06-04</td>\n",
       "    </tr>\n",
       "    <tr>\n",
       "      <th>69</th>\n",
       "      <td>04/06/2020 23:00</td>\n",
       "      <td>94590.30</td>\n",
       "      <td>56.60</td>\n",
       "      <td>31.88</td>\n",
       "      <td>M</td>\n",
       "      <td>2020-06-04 23:00:00</td>\n",
       "      <td>23:00:00</td>\n",
       "      <td>2020-06-04</td>\n",
       "    </tr>\n",
       "    <tr>\n",
       "      <th>363</th>\n",
       "      <td>04/06/2020 23:05</td>\n",
       "      <td>94593.74</td>\n",
       "      <td>56.53</td>\n",
       "      <td>31.93</td>\n",
       "      <td>M</td>\n",
       "      <td>2020-06-04 23:05:00</td>\n",
       "      <td>23:05:00</td>\n",
       "      <td>2020-06-04</td>\n",
       "    </tr>\n",
       "  </tbody>\n",
       "</table>\n",
       "</div>"
      ],
      "text/plain": [
       "                 date       pre    hum    tem occ             newDate  \\\n",
       "809  04/06/2020 22:45  94573.86  56.85  31.57   L 2020-06-04 22:45:00   \n",
       "845  04/06/2020 22:50  94581.41  56.67  31.69   L 2020-06-04 22:50:00   \n",
       "318  04/06/2020 22:55  94585.56  56.70  31.78   L 2020-06-04 22:55:00   \n",
       "69   04/06/2020 23:00  94590.30  56.60  31.88   M 2020-06-04 23:00:00   \n",
       "363  04/06/2020 23:05  94593.74  56.53  31.93   M 2020-06-04 23:05:00   \n",
       "\n",
       "         time         day  \n",
       "809  22:45:00  2020-06-04  \n",
       "845  22:50:00  2020-06-04  \n",
       "318  22:55:00  2020-06-04  \n",
       "69   23:00:00  2020-06-04  \n",
       "363  23:05:00  2020-06-04  "
      ]
     },
     "execution_count": 3,
     "metadata": {},
     "output_type": "execute_result"
    }
   ],
   "source": [
    "df.tail()"
   ]
  },
  {
   "cell_type": "code",
   "execution_count": 4,
   "metadata": {},
   "outputs": [
    {
     "data": {
      "text/plain": [
       "(array([18399., 18403., 18407., 18411., 18414., 18418.]),\n",
       " [Text(0, 0, ''),\n",
       "  Text(0, 0, ''),\n",
       "  Text(0, 0, ''),\n",
       "  Text(0, 0, ''),\n",
       "  Text(0, 0, ''),\n",
       "  Text(0, 0, '')])"
      ]
     },
     "execution_count": 4,
     "metadata": {},
     "output_type": "execute_result"
    },
    {
     "data": {
      "image/png": "[encoded data removed]",
      "text/plain": [
       "<Figure size 432x288 with 1 Axes>"
      ]
     },
     "metadata": {
      "needs_background": "light"
     },
     "output_type": "display_data"
    }
   ],
   "source": [
    "plt.plot(df['newDate'], df['occ'], '*')\n",
    "plt.xticks(rotation='vertical')"
   ]
  },
  {
   "cell_type": "code",
   "execution_count": 5,
   "metadata": {},
   "outputs": [
    {
     "data": {
      "text/plain": [
       "array(['L', 'M', 'H', 'E'], dtype=object)"
      ]
     },
     "execution_count": 5,
     "metadata": {},
     "output_type": "execute_result"
    }
   ],
   "source": [
    "names = df['occ']\n",
    "names.unique()"
   ]
  },
  {
   "cell_type": "code",
   "execution_count": 6,
   "metadata": {},
   "outputs": [],
   "source": [
    "L = df.loc[df['occ'] == 'L']\n",
    "L = L.iloc[:150]\n",
    "Else = df.loc[df['occ'] != 'L']\n",
    "df = pd.concat([L, Else])"
   ]
  },
  {
   "cell_type": "code",
   "execution_count": 7,
   "metadata": {},
   "outputs": [
    {
     "data": {
      "text/plain": [
       "E    173\n",
       "L    150\n",
       "M    121\n",
       "H     23\n",
       "Name: occ, dtype: int64"
      ]
     },
     "execution_count": 7,
     "metadata": {},
     "output_type": "execute_result"
    }
   ],
   "source": [
    "df['occ'].value_counts()\n",
    "#g = df.groupby('occ')\n",
    "#df = pd.DataFrame(g.apply(lambda x: x.sample(g.size().min()).reset_index(drop=True)))"
   ]
  },
  {
   "cell_type": "code",
   "execution_count": 8,
   "metadata": {},
   "outputs": [],
   "source": [
    "feature_names = ['pre','hum','tem']\n",
    "X = df[feature_names]\n",
    "y = df['occ']"
   ]
  },
  {
   "cell_type": "code",
   "execution_count": 9,
   "metadata": {},
   "outputs": [
    {
     "data": {
      "text/plain": [
       "325    L\n",
       "833    L\n",
       "46     L\n",
       "352    L\n",
       "431    L\n",
       "      ..\n",
       "43     E\n",
       "152    E\n",
       "336    E\n",
       "69     M\n",
       "363    M\n",
       "Name: occ, Length: 467, dtype: object"
      ]
     },
     "execution_count": 9,
     "metadata": {},
     "output_type": "execute_result"
    }
   ],
   "source": [
    "y"
   ]
  },
  {
   "cell_type": "code",
   "execution_count": 10,
   "metadata": {},
   "outputs": [],
   "source": [
    "from sklearn.model_selection import train_test_split\n",
    "from sklearn.preprocessing import OneHotEncoder, StandardScaler"
   ]
  },
  {
   "cell_type": "code",
   "execution_count": 11,
   "metadata": {},
   "outputs": [
    {
     "name": "stderr",
     "output_type": "stream",
     "text": [
      "C:\\Users\\rober\\anaconda3\\envs\\ML\\lib\\site-packages\\ipykernel_launcher.py:3: FutureWarning: Support for multi-dimensional indexing (e.g. `obj[:, None]`) is deprecated and will be removed in a future version.  Convert to a numpy array before indexing instead.\n",
      "  This is separate from the ipykernel package so we can avoid doing imports until\n"
     ]
    }
   ],
   "source": [
    "# One hot encoding\n",
    "enc = OneHotEncoder()\n",
    "Y = enc.fit_transform(y[:, np.newaxis]).toarray()"
   ]
  },
  {
   "cell_type": "code",
   "execution_count": 12,
   "metadata": {},
   "outputs": [
    {
     "data": {
      "text/plain": [
       "array([[0., 0., 1., 0.],\n",
       "       [0., 0., 1., 0.],\n",
       "       [0., 0., 1., 0.],\n",
       "       ...,\n",
       "       [1., 0., 0., 0.],\n",
       "       [0., 0., 0., 1.],\n",
       "       [0., 0., 0., 1.]])"
      ]
     },
     "execution_count": 12,
     "metadata": {},
     "output_type": "execute_result"
    }
   ],
   "source": [
    "Y"
   ]
  },
  {
   "cell_type": "code",
   "execution_count": 13,
   "metadata": {},
   "outputs": [],
   "source": [
    "# Scale data to have mean 0 and variance 1 \n",
    "# which is importance for convergence of the neural network\n",
    "scaler = StandardScaler()\n",
    "X_scaled = scaler.fit_transform(X)"
   ]
  },
  {
   "cell_type": "code",
   "execution_count": 14,
   "metadata": {},
   "outputs": [
    {
     "data": {
      "text/plain": [
       "array([[-0.57924803, -0.10511153,  0.33292122],\n",
       "       [-0.58602644, -0.13595635,  0.34395794],\n",
       "       [-0.57272323, -0.04017508,  0.34395794],\n",
       "       ...,\n",
       "       [ 0.09331338,  0.27314329,  0.6364309 ],\n",
       "       [ 0.15976026,  0.24392189,  0.82405506],\n",
       "       [ 0.16769147,  0.23255801,  0.85164685]])"
      ]
     },
     "execution_count": 14,
     "metadata": {},
     "output_type": "execute_result"
    }
   ],
   "source": [
    "X_scaled"
   ]
  },
  {
   "cell_type": "code",
   "execution_count": 15,
   "metadata": {},
   "outputs": [],
   "source": [
    "# Split the data set into training and testing\n",
    "X_train, X_test, Y_train, Y_test = train_test_split(\n",
    "    X_scaled, Y, test_size=0.25, random_state=2)"
   ]
  },
  {
   "cell_type": "code",
   "execution_count": 16,
   "metadata": {},
   "outputs": [
    {
     "name": "stdout",
     "output_type": "stream",
     "text": [
      "3\n",
      "4\n"
     ]
    }
   ],
   "source": [
    "n_features = X.shape[1]\n",
    "n_classes = Y.shape[1]\n",
    "print(n_features)\n",
    "print(n_classes)"
   ]
  },
  {
   "cell_type": "code",
   "execution_count": 17,
   "metadata": {},
   "outputs": [
    {
     "name": "stderr",
     "output_type": "stream",
     "text": [
      "Using TensorFlow backend.\n"
     ]
    }
   ],
   "source": [
    "from keras.models import Sequential\n",
    "from keras.layers import Dense\n",
    "\n",
    "model = Sequential()\n",
    "\n",
    "model.add(Dense(8, activation='relu', input_shape=(3,)))\n",
    "\n",
    "model.add(Dense(8, activation='relu'))\n",
    "\n",
    "model.add(Dense(8, activation='relu'))\n",
    "\n",
    "model.add(Dense(4, activation='softmax'))"
   ]
  },
  {
   "cell_type": "code",
   "execution_count": 37,
   "metadata": {},
   "outputs": [
    {
     "name": "stdout",
     "output_type": "stream",
     "text": [
      "Train on 350 samples, validate on 117 samples\n",
      "Epoch 1/100\n",
      "350/350 [==============================] - 1s 3ms/step - loss: 0.2561 - accuracy: 0.8857 - val_loss: 0.6641 - val_accuracy: 0.8291\n",
      "Epoch 2/100\n",
      "350/350 [==============================] - 1s 2ms/step - loss: 0.2495 - accuracy: 0.8657 - val_loss: 0.5895 - val_accuracy: 0.8291\n",
      "Epoch 3/100\n",
      "350/350 [==============================] - 1s 2ms/step - loss: 0.2467 - accuracy: 0.8886 - val_loss: 0.5977 - val_accuracy: 0.7949\n",
      "Epoch 4/100\n",
      "350/350 [==============================] - 1s 2ms/step - loss: 0.2626 - accuracy: 0.8743 - val_loss: 0.5737 - val_accuracy: 0.8376\n",
      "Epoch 5/100\n",
      "350/350 [==============================] - 1s 2ms/step - loss: 0.2588 - accuracy: 0.8800 - val_loss: 0.5527 - val_accuracy: 0.8462\n",
      "Epoch 6/100\n",
      "350/350 [==============================] - 1s 2ms/step - loss: 0.2620 - accuracy: 0.8743 - val_loss: 0.6085 - val_accuracy: 0.8376\n",
      "Epoch 7/100\n",
      "350/350 [==============================] - 1s 2ms/step - loss: 0.2436 - accuracy: 0.8743 - val_loss: 0.5593 - val_accuracy: 0.8632\n",
      "Epoch 8/100\n",
      "350/350 [==============================] - 1s 2ms/step - loss: 0.2498 - accuracy: 0.8771 - val_loss: 0.5695 - val_accuracy: 0.8632\n",
      "Epoch 9/100\n",
      "350/350 [==============================] - 1s 2ms/step - loss: 0.2545 - accuracy: 0.8857 - val_loss: 0.5531 - val_accuracy: 0.8462\n",
      "Epoch 10/100\n",
      "350/350 [==============================] - 1s 2ms/step - loss: 0.2517 - accuracy: 0.8771 - val_loss: 0.5850 - val_accuracy: 0.8632\n",
      "Epoch 11/100\n",
      "350/350 [==============================] - 1s 2ms/step - loss: 0.2460 - accuracy: 0.8886 - val_loss: 0.5353 - val_accuracy: 0.8632\n",
      "Epoch 12/100\n",
      "350/350 [==============================] - 1s 2ms/step - loss: 0.2519 - accuracy: 0.8886 - val_loss: 0.5477 - val_accuracy: 0.8632\n",
      "Epoch 13/100\n",
      "350/350 [==============================] - 1s 2ms/step - loss: 0.2476 - accuracy: 0.8829 - val_loss: 0.5812 - val_accuracy: 0.8547\n",
      "Epoch 14/100\n",
      "350/350 [==============================] - 1s 2ms/step - loss: 0.2420 - accuracy: 0.8914 - val_loss: 0.5939 - val_accuracy: 0.8291\n",
      "Epoch 15/100\n",
      "350/350 [==============================] - 1s 2ms/step - loss: 0.2501 - accuracy: 0.8829 - val_loss: 0.5673 - val_accuracy: 0.8632\n",
      "Epoch 16/100\n",
      "350/350 [==============================] - 1s 2ms/step - loss: 0.2444 - accuracy: 0.8857 - val_loss: 0.5471 - val_accuracy: 0.8632\n",
      "Epoch 17/100\n",
      "350/350 [==============================] - 1s 2ms/step - loss: 0.2440 - accuracy: 0.8943 - val_loss: 0.5905 - val_accuracy: 0.8632\n",
      "Epoch 18/100\n",
      "350/350 [==============================] - 1s 2ms/step - loss: 0.2423 - accuracy: 0.8971 - val_loss: 0.5922 - val_accuracy: 0.8718\n",
      "Epoch 19/100\n",
      "350/350 [==============================] - 1s 2ms/step - loss: 0.2572 - accuracy: 0.8914 - val_loss: 0.5649 - val_accuracy: 0.8718\n",
      "Epoch 20/100\n",
      "350/350 [==============================] - 1s 2ms/step - loss: 0.2410 - accuracy: 0.8943 - val_loss: 0.5785 - val_accuracy: 0.8632\n",
      "Epoch 21/100\n",
      "350/350 [==============================] - 1s 2ms/step - loss: 0.2501 - accuracy: 0.8857 - val_loss: 0.5826 - val_accuracy: 0.8547\n",
      "Epoch 22/100\n",
      "350/350 [==============================] - 1s 2ms/step - loss: 0.2393 - accuracy: 0.8886 - val_loss: 0.6430 - val_accuracy: 0.8120\n",
      "Epoch 23/100\n",
      "350/350 [==============================] - 1s 2ms/step - loss: 0.2400 - accuracy: 0.8857 - val_loss: 0.5838 - val_accuracy: 0.8632\n",
      "Epoch 24/100\n",
      "350/350 [==============================] - 1s 2ms/step - loss: 0.2379 - accuracy: 0.8971 - val_loss: 0.5863 - val_accuracy: 0.8376\n",
      "Epoch 25/100\n",
      "350/350 [==============================] - 1s 2ms/step - loss: 0.2472 - accuracy: 0.8914 - val_loss: 0.5877 - val_accuracy: 0.8291\n",
      "Epoch 26/100\n",
      "350/350 [==============================] - 1s 2ms/step - loss: 0.2390 - accuracy: 0.8971 - val_loss: 0.5793 - val_accuracy: 0.8376\n",
      "Epoch 27/100\n",
      "350/350 [==============================] - 1s 2ms/step - loss: 0.2464 - accuracy: 0.8857 - val_loss: 0.6044 - val_accuracy: 0.8718\n",
      "Epoch 28/100\n",
      "350/350 [==============================] - 1s 2ms/step - loss: 0.2438 - accuracy: 0.8743 - val_loss: 0.6087 - val_accuracy: 0.8718\n",
      "Epoch 29/100\n",
      "350/350 [==============================] - 1s 2ms/step - loss: 0.2420 - accuracy: 0.8914 - val_loss: 0.5784 - val_accuracy: 0.8632\n",
      "Epoch 30/100\n",
      "350/350 [==============================] - 1s 2ms/step - loss: 0.2369 - accuracy: 0.8914 - val_loss: 0.5863 - val_accuracy: 0.8547\n",
      "Epoch 31/100\n",
      "350/350 [==============================] - 1s 2ms/step - loss: 0.2303 - accuracy: 0.8943 - val_loss: 0.6597 - val_accuracy: 0.8462\n",
      "Epoch 32/100\n",
      "350/350 [==============================] - 1s 2ms/step - loss: 0.2404 - accuracy: 0.8914 - val_loss: 0.6077 - val_accuracy: 0.8462\n",
      "Epoch 33/100\n",
      "350/350 [==============================] - 1s 2ms/step - loss: 0.2389 - accuracy: 0.8886 - val_loss: 0.5937 - val_accuracy: 0.8632\n",
      "Epoch 34/100\n",
      "350/350 [==============================] - 1s 2ms/step - loss: 0.2375 - accuracy: 0.8886 - val_loss: 0.5682 - val_accuracy: 0.8718\n",
      "Epoch 35/100\n",
      "350/350 [==============================] - 1s 2ms/step - loss: 0.2319 - accuracy: 0.8829 - val_loss: 0.5889 - val_accuracy: 0.8632\n",
      "Epoch 36/100\n",
      "350/350 [==============================] - 1s 2ms/step - loss: 0.2313 - accuracy: 0.9000 - val_loss: 0.5728 - val_accuracy: 0.8718\n",
      "Epoch 37/100\n",
      "350/350 [==============================] - 1s 2ms/step - loss: 0.2415 - accuracy: 0.9000 - val_loss: 0.6163 - val_accuracy: 0.8547\n",
      "Epoch 38/100\n",
      "350/350 [==============================] - 1s 2ms/step - loss: 0.2436 - accuracy: 0.8914 - val_loss: 0.6013 - val_accuracy: 0.8632\n",
      "Epoch 39/100\n",
      "350/350 [==============================] - 1s 2ms/step - loss: 0.2295 - accuracy: 0.9057 - val_loss: 0.6181 - val_accuracy: 0.8718\n",
      "Epoch 40/100\n",
      "350/350 [==============================] - 1s 2ms/step - loss: 0.2330 - accuracy: 0.8857 - val_loss: 0.5975 - val_accuracy: 0.8718\n",
      "Epoch 41/100\n",
      "350/350 [==============================] - 1s 2ms/step - loss: 0.2398 - accuracy: 0.8800 - val_loss: 0.6112 - val_accuracy: 0.8632\n",
      "Epoch 42/100\n",
      "350/350 [==============================] - 1s 2ms/step - loss: 0.2292 - accuracy: 0.8914 - val_loss: 0.5957 - val_accuracy: 0.8718\n",
      "Epoch 43/100\n",
      "350/350 [==============================] - 1s 2ms/step - loss: 0.2346 - accuracy: 0.8857 - val_loss: 0.6399 - val_accuracy: 0.8547\n",
      "Epoch 44/100\n",
      "350/350 [==============================] - 1s 2ms/step - loss: 0.2220 - accuracy: 0.8943 - val_loss: 0.5600 - val_accuracy: 0.8718\n",
      "Epoch 45/100\n",
      "350/350 [==============================] - 1s 2ms/step - loss: 0.2252 - accuracy: 0.8943 - val_loss: 0.6150 - val_accuracy: 0.8803\n",
      "Epoch 46/100\n",
      "350/350 [==============================] - 1s 2ms/step - loss: 0.2228 - accuracy: 0.8971 - val_loss: 0.5754 - val_accuracy: 0.8718\n",
      "Epoch 47/100\n",
      "350/350 [==============================] - 1s 2ms/step - loss: 0.2295 - accuracy: 0.9000 - val_loss: 0.6079 - val_accuracy: 0.8547\n",
      "Epoch 48/100\n",
      "350/350 [==============================] - 1s 2ms/step - loss: 0.2298 - accuracy: 0.8800 - val_loss: 0.5887 - val_accuracy: 0.8718\n",
      "Epoch 49/100\n",
      "350/350 [==============================] - 1s 2ms/step - loss: 0.2269 - accuracy: 0.9086 - val_loss: 0.6592 - val_accuracy: 0.8291\n",
      "Epoch 50/100\n",
      "350/350 [==============================] - 1s 2ms/step - loss: 0.2403 - accuracy: 0.8914 - val_loss: 0.5588 - val_accuracy: 0.8547\n",
      "Epoch 51/100\n",
      "350/350 [==============================] - 1s 2ms/step - loss: 0.2302 - accuracy: 0.9000 - val_loss: 0.5765 - val_accuracy: 0.8718\n",
      "Epoch 52/100\n",
      "350/350 [==============================] - 1s 2ms/step - loss: 0.2264 - accuracy: 0.8943 - val_loss: 0.5976 - val_accuracy: 0.8718\n",
      "Epoch 53/100\n",
      "350/350 [==============================] - 1s 2ms/step - loss: 0.2226 - accuracy: 0.9029 - val_loss: 0.6056 - val_accuracy: 0.8547\n",
      "Epoch 54/100\n",
      "350/350 [==============================] - 1s 2ms/step - loss: 0.2258 - accuracy: 0.8943 - val_loss: 0.6154 - val_accuracy: 0.8718\n",
      "Epoch 55/100\n",
      "350/350 [==============================] - 1s 2ms/step - loss: 0.2274 - accuracy: 0.8943 - val_loss: 0.5617 - val_accuracy: 0.8547\n",
      "Epoch 56/100\n",
      "350/350 [==============================] - 1s 2ms/step - loss: 0.2331 - accuracy: 0.8800 - val_loss: 0.6287 - val_accuracy: 0.8376\n",
      "Epoch 57/100\n",
      "350/350 [==============================] - 1s 2ms/step - loss: 0.2308 - accuracy: 0.8943 - val_loss: 0.5978 - val_accuracy: 0.8803\n",
      "Epoch 58/100\n",
      "350/350 [==============================] - 1s 2ms/step - loss: 0.2204 - accuracy: 0.8914 - val_loss: 0.6558 - val_accuracy: 0.8547\n",
      "Epoch 59/100\n",
      "350/350 [==============================] - 1s 2ms/step - loss: 0.2269 - accuracy: 0.8829 - val_loss: 0.6373 - val_accuracy: 0.8718\n",
      "Epoch 60/100\n",
      "350/350 [==============================] - 1s 2ms/step - loss: 0.2294 - accuracy: 0.8943 - val_loss: 0.6106 - val_accuracy: 0.8632\n",
      "Epoch 61/100\n",
      "350/350 [==============================] - 1s 2ms/step - loss: 0.2237 - accuracy: 0.8971 - val_loss: 0.6150 - val_accuracy: 0.8718\n",
      "Epoch 62/100\n",
      "350/350 [==============================] - 1s 2ms/step - loss: 0.2141 - accuracy: 0.9000 - val_loss: 0.6246 - val_accuracy: 0.8547\n",
      "Epoch 63/100\n",
      "350/350 [==============================] - 1s 2ms/step - loss: 0.2306 - accuracy: 0.9000 - val_loss: 0.6169 - val_accuracy: 0.8376\n",
      "Epoch 64/100\n",
      "350/350 [==============================] - 1s 2ms/step - loss: 0.2233 - accuracy: 0.9114 - val_loss: 0.5978 - val_accuracy: 0.8718\n",
      "Epoch 65/100\n",
      "350/350 [==============================] - 1s 2ms/step - loss: 0.2250 - accuracy: 0.8971 - val_loss: 0.6520 - val_accuracy: 0.8632\n",
      "Epoch 66/100\n",
      "350/350 [==============================] - 1s 2ms/step - loss: 0.2237 - accuracy: 0.8829 - val_loss: 0.6469 - val_accuracy: 0.8718\n",
      "Epoch 67/100\n",
      "350/350 [==============================] - 1s 2ms/step - loss: 0.2212 - accuracy: 0.8886 - val_loss: 0.6107 - val_accuracy: 0.8632\n",
      "Epoch 68/100\n",
      "350/350 [==============================] - 1s 2ms/step - loss: 0.2259 - accuracy: 0.8971 - val_loss: 0.6140 - val_accuracy: 0.8632\n",
      "Epoch 69/100\n",
      "350/350 [==============================] - 1s 2ms/step - loss: 0.2217 - accuracy: 0.9000 - val_loss: 0.6011 - val_accuracy: 0.8462\n",
      "Epoch 70/100\n",
      "350/350 [==============================] - 1s 2ms/step - loss: 0.2176 - accuracy: 0.8857 - val_loss: 0.6163 - val_accuracy: 0.8718\n",
      "Epoch 71/100\n",
      "350/350 [==============================] - 1s 2ms/step - loss: 0.2182 - accuracy: 0.9029 - val_loss: 0.6069 - val_accuracy: 0.8632\n",
      "Epoch 72/100\n",
      "350/350 [==============================] - 1s 2ms/step - loss: 0.2169 - accuracy: 0.8914 - val_loss: 0.6411 - val_accuracy: 0.8718\n",
      "Epoch 73/100\n",
      "350/350 [==============================] - 1s 2ms/step - loss: 0.2283 - accuracy: 0.8829 - val_loss: 0.6982 - val_accuracy: 0.8547\n",
      "Epoch 74/100\n",
      "350/350 [==============================] - 1s 2ms/step - loss: 0.2102 - accuracy: 0.8914 - val_loss: 0.6219 - val_accuracy: 0.8632\n",
      "Epoch 75/100\n",
      "350/350 [==============================] - 1s 2ms/step - loss: 0.2362 - accuracy: 0.8971 - val_loss: 0.6417 - val_accuracy: 0.8718\n",
      "Epoch 76/100\n",
      "350/350 [==============================] - 1s 2ms/step - loss: 0.2151 - accuracy: 0.8971 - val_loss: 0.6027 - val_accuracy: 0.8889\n",
      "Epoch 77/100\n",
      "350/350 [==============================] - 1s 2ms/step - loss: 0.2214 - accuracy: 0.9029 - val_loss: 0.5838 - val_accuracy: 0.8376\n",
      "Epoch 78/100\n",
      "350/350 [==============================] - 1s 2ms/step - loss: 0.2214 - accuracy: 0.8943 - val_loss: 0.6539 - val_accuracy: 0.8632\n",
      "Epoch 79/100\n",
      "350/350 [==============================] - 1s 2ms/step - loss: 0.2215 - accuracy: 0.9000 - val_loss: 0.6703 - val_accuracy: 0.8803\n",
      "Epoch 80/100\n",
      "350/350 [==============================] - 1s 2ms/step - loss: 0.2184 - accuracy: 0.8914 - val_loss: 0.6794 - val_accuracy: 0.8547\n",
      "Epoch 81/100\n",
      "350/350 [==============================] - 1s 2ms/step - loss: 0.2168 - accuracy: 0.9114 - val_loss: 0.6212 - val_accuracy: 0.8718\n",
      "Epoch 82/100\n",
      "350/350 [==============================] - 1s 2ms/step - loss: 0.2203 - accuracy: 0.9000 - val_loss: 0.6227 - val_accuracy: 0.8803\n",
      "Epoch 83/100\n",
      "350/350 [==============================] - 1s 2ms/step - loss: 0.2123 - accuracy: 0.9029 - val_loss: 0.6882 - val_accuracy: 0.8547\n",
      "Epoch 84/100\n",
      "350/350 [==============================] - 1s 2ms/step - loss: 0.2122 - accuracy: 0.9114 - val_loss: 0.7316 - val_accuracy: 0.8632\n",
      "Epoch 85/100\n",
      "350/350 [==============================] - 1s 2ms/step - loss: 0.2242 - accuracy: 0.9000 - val_loss: 0.6288 - val_accuracy: 0.8803\n",
      "Epoch 86/100\n",
      "350/350 [==============================] - 1s 2ms/step - loss: 0.2128 - accuracy: 0.9057 - val_loss: 0.6665 - val_accuracy: 0.8632\n",
      "Epoch 87/100\n",
      "350/350 [==============================] - 1s 2ms/step - loss: 0.2264 - accuracy: 0.8943 - val_loss: 0.6337 - val_accuracy: 0.8718\n",
      "Epoch 88/100\n",
      "350/350 [==============================] - 1s 2ms/step - loss: 0.2146 - accuracy: 0.8971 - val_loss: 0.6602 - val_accuracy: 0.8718\n",
      "Epoch 89/100\n",
      "350/350 [==============================] - 1s 2ms/step - loss: 0.2127 - accuracy: 0.8971 - val_loss: 0.6337 - val_accuracy: 0.8462\n",
      "Epoch 90/100\n",
      "350/350 [==============================] - 1s 2ms/step - loss: 0.2104 - accuracy: 0.9029 - val_loss: 0.8085 - val_accuracy: 0.8462\n",
      "Epoch 91/100\n",
      "350/350 [==============================] - 1s 2ms/step - loss: 0.2439 - accuracy: 0.9029 - val_loss: 0.6612 - val_accuracy: 0.8376\n",
      "Epoch 92/100\n",
      "350/350 [==============================] - 1s 2ms/step - loss: 0.2112 - accuracy: 0.8943 - val_loss: 0.6250 - val_accuracy: 0.8632\n",
      "Epoch 93/100\n",
      "350/350 [==============================] - 1s 2ms/step - loss: 0.2186 - accuracy: 0.8971 - val_loss: 0.6430 - val_accuracy: 0.8291\n",
      "Epoch 94/100\n",
      "350/350 [==============================] - 1s 2ms/step - loss: 0.2094 - accuracy: 0.8971 - val_loss: 0.6032 - val_accuracy: 0.8803\n",
      "Epoch 95/100\n",
      "350/350 [==============================] - 1s 2ms/step - loss: 0.2134 - accuracy: 0.9114 - val_loss: 0.6701 - val_accuracy: 0.8291\n",
      "Epoch 96/100\n",
      "350/350 [==============================] - 1s 2ms/step - loss: 0.2246 - accuracy: 0.8914 - val_loss: 0.6490 - val_accuracy: 0.8803\n",
      "Epoch 97/100\n",
      "350/350 [==============================] - 1s 2ms/step - loss: 0.2138 - accuracy: 0.9114 - val_loss: 0.6205 - val_accuracy: 0.8718\n",
      "Epoch 98/100\n",
      "350/350 [==============================] - 1s 2ms/step - loss: 0.2124 - accuracy: 0.9171 - val_loss: 0.6403 - val_accuracy: 0.8889\n",
      "Epoch 99/100\n",
      "350/350 [==============================] - 1s 2ms/step - loss: 0.2116 - accuracy: 0.9114 - val_loss: 0.6445 - val_accuracy: 0.8632\n",
      "Epoch 100/100\n",
      "350/350 [==============================] - 1s 2ms/step - loss: 0.2080 - accuracy: 0.9029 - val_loss: 0.6153 - val_accuracy: 0.8889\n"
     ]
    }
   ],
   "source": [
    "model.compile(loss='categorical_crossentropy',\n",
    "              optimizer='adam',\n",
    "              metrics=['accuracy'])\n",
    "                   \n",
    "hc = model.fit(X_train, Y_train,epochs=100, batch_size=1, verbose=1, validation_data=(X_test, Y_test))"
   ]
  },
  {
   "cell_type": "code",
   "execution_count": 38,
   "metadata": {},
   "outputs": [
    {
     "name": "stdout",
     "output_type": "stream",
     "text": [
      "117/117 [==============================] - 0s 51us/step\n",
      "[0.6152644463074513, 0.8888888955116272]\n"
     ]
    }
   ],
   "source": [
    "score = model.evaluate(X_test, Y_test,verbose=1)\n",
    "print(score)"
   ]
  },
  {
   "cell_type": "code",
   "execution_count": 39,
   "metadata": {},
   "outputs": [
    {
     "data": {
      "image/png": "[encoded data removed]",
      "text/plain": [
       "<Figure size 720x360 with 1 Axes>"
      ]
     },
     "metadata": {
      "needs_background": "light"
     },
     "output_type": "display_data"
    }
   ],
   "source": [
    "plt.figure(figsize=(10, 5))\n",
    "\n",
    "val_acc = hc.history['accuracy']\n",
    "plt.plot(val_acc)\n",
    "\n",
    "plt.title(\"Accuracy Plot\")\n",
    "plt.ylim(0.5, 1)\n",
    "plt.show()"
   ]
  },
  {
   "cell_type": "code",
   "execution_count": 42,
   "metadata": {},
   "outputs": [
    {
     "data": {
      "image/png": "[encoded data removed]",
      "text/plain": [
       "<Figure size 432x288 with 1 Axes>"
      ]
     },
     "metadata": {
      "needs_background": "light"
     },
     "output_type": "display_data"
    }
   ],
   "source": [
    "val_loss = hc.history['val_loss']\n",
    "plt.plot(val_loss)\n",
    "    \n",
    "plt.title(\"Loss Plot\")\n",
    "plt.ylim(0, 1)\n",
    "plt.show()"
   ]
  },
  {
   "cell_type": "code",
   "execution_count": 24,
   "metadata": {},
   "outputs": [
    {
     "data": {
      "image/png": "[encoded data removed]",
      "text/plain": [
       "<Figure size 720x576 with 1 Axes>"
      ]
     },
     "metadata": {
      "needs_background": "light"
     },
     "output_type": "display_data"
    }
   ],
   "source": [
    "from sklearn.metrics import roc_curve, auc\n",
    "\n",
    "plt.figure(figsize=(10, 8))\n",
    "plt.plot([0, 1], [0, 1], 'k--')\n",
    "\n",
    "    \n",
    "Y_pred = model.predict(X_test)\n",
    "fpr, tpr, threshold = roc_curve(Y_test.ravel(), Y_pred.ravel())\n",
    "    \n",
    "plt.plot(fpr, tpr, label='{}, AUC = {:.3f}'.format('model', auc(fpr, tpr)))\n",
    "plt.xlabel('False positive rate')\n",
    "plt.ylabel('True positive rate')\n",
    "plt.title('ROC curve')\n",
    "plt.legend();"
   ]
  },
  {
   "cell_type": "code",
   "execution_count": null,
   "metadata": {},
   "outputs": [],
   "source": []
  }
 ],
 "metadata": {
  "kernelspec": {
   "display_name": "Python 3",
   "language": "python",
   "name": "python3"
  },
  "language_info": {
   "codemirror_mode": {
    "name": "ipython",
    "version": 3
   },
   "file_extension": ".py",
   "mimetype": "text/x-python",
   "name": "python",
   "nbconvert_exporter": "python",
   "pygments_lexer": "ipython3",
   "version": "3.7.9"
  }
 },
 "nbformat": 4,
 "nbformat_minor": 4
}
